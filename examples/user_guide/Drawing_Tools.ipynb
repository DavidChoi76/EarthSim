{
 "cells": [
  {
   "cell_type": "markdown",
   "metadata": {},
   "source": [
    "Drawing tools are the basis of a wide range of functionality in EarthSim allowing for annotating existing data, highlighting regions of interest and drawing and editing shapes. This user guide will give a basic introduction to the drawing tools, explaining how to sync the data back to Python and how to access the data. For more detail about the underlying bokeh tools [see the bokeh user guide](https://bokeh.pydata.org/en/latest/docs/user_guide/tools.html#userguide-tools-edit)."
   ]
  },
  {
   "cell_type": "code",
   "execution_count": null,
   "metadata": {},
   "outputs": [],
   "source": [
    "import numpy as np\n",
    "import holoviews as hv\n",
    "import geoviews as gv\n",
    "import cartopy.crs as ccrs\n",
    "\n",
    "from holoviews.streams import (\n",
    "    PointDraw, PolyEdit, BoxEdit, PolyDraw\n",
    ")\n",
    "\n",
    "url = 'http://c.tile.openstreetmap.org/{Z}/{X}/{Y}.png'\n",
    "tiles = gv.WMTS(url, extents=(-91, 32.2, -90.8, 32.4), crs=ccrs.PlateCarree())\n",
    "\n",
    "hv.extension('bokeh')"
   ]
  },
  {
   "cell_type": "markdown",
   "metadata": {},
   "source": [
    "## Drawing Points"
   ]
  },
  {
   "cell_type": "markdown",
   "metadata": {},
   "source": [
    "All drawing tools are added via a corresponding stream, which also syncs the data. Here we will use the ``PointDraw`` stream which allows adding points, dragging points and deleting points.\n",
    "\n",
    "**Add point**\n",
    "\n",
    "    Tap anywhere on the plot\n",
    "\n",
    "**Move point**\n",
    "    \n",
    "    Tap and drag an existing point, the point will be dropped once you let go of the mouse button.\n",
    "\n",
    "**Delete point**\n",
    "\n",
    "    Tap a point to select it then press BACKSPACE key while the mouse is within the plot area."
   ]
  },
  {
   "cell_type": "code",
   "execution_count": null,
   "metadata": {},
   "outputs": [],
   "source": [
    "%%opts Points [width=900 height=500 tools=['hover']] (size=10 color='red')\n",
    "points = gv.Points(np.random.rand(10, 2)*2000000, crs=ccrs.GOOGLE_MERCATOR)\n",
    "point_stream = PointDraw(source=points)\n",
    "tiles * points"
   ]
  },
  {
   "cell_type": "markdown",
   "metadata": {},
   "source": [
    "Once you have drawn a point on the map we can wrap it in a GeoViews Points object, project it and display the points as a dataframe:"
   ]
  },
  {
   "cell_type": "code",
   "execution_count": null,
   "metadata": {},
   "outputs": [],
   "source": [
    "if point_stream.data:\n",
    "    projected = gv.operation.project(point_stream.element, projection=ccrs.PlateCarree())\n",
    "    display(projected.dframe())"
   ]
  },
  {
   "cell_type": "markdown",
   "metadata": {},
   "source": [
    "## Drawing bounding boxes\n",
    "\n",
    "The ``BoxEdit`` stream adds a tool which allows drawing, dragging and deleting rectangular bounding boxes:\n",
    "\n",
    "**Add box**\n",
    "\n",
    "    Hold shift then click and drag anywhere on the plot.\n",
    "\n",
    "**Move box**\n",
    "\n",
    "    Click and drag an existing box, the box will be dropped once you let go of the mouse button.\n",
    "\n",
    "**Delete box**\n",
    "\n",
    "    Tap a box to select it then press BACKSPACE key while the mouse is within the plot area."
   ]
  },
  {
   "cell_type": "code",
   "execution_count": null,
   "metadata": {
    "scrolled": false
   },
   "outputs": [],
   "source": [
    "%%opts Polygons [width=900 height=500] (fill_alpha=0 line_color='black' selection_fill_color='red')\n",
    "box_poly = gv.Polygons([], crs=ccrs.GOOGLE_MERCATOR)\n",
    "box_stream = BoxEdit(source=box_poly)\n",
    "tiles * box_poly"
   ]
  },
  {
   "cell_type": "markdown",
   "metadata": {},
   "source": [
    "Now we can get the bounding box from the stream and use the GeoViews ``project_extents`` utility to project it from Mercator to lats/lons."
   ]
  },
  {
   "cell_type": "code",
   "execution_count": null,
   "metadata": {},
   "outputs": [],
   "source": [
    "if box_stream.data:\n",
    "    element = gv.operation.project(box_stream.element, projection=ccrs.PlateCarree())\n",
    "    xs, ys = element.array().T\n",
    "    bbox = (xs[0], ys[0], xs[2], ys[1])\n",
    "    print(bbox)"
   ]
  },
  {
   "cell_type": "markdown",
   "metadata": {},
   "source": [
    "## Polygon Editing"
   ]
  },
  {
   "cell_type": "markdown",
   "metadata": {},
   "source": [
    "The ``PolyEdit`` stream adds a bokeh tool to the source plot, which allows drawing, dragging and deleting vertices on polygons and making the drawn data available to Python. The tool supports the following actions:\n",
    "\n",
    "**Show vertices**\n",
    "\n",
    "    Double tap an existing patch or multi-line\n",
    "\n",
    "**Add vertex**\n",
    "\n",
    "    Double tap an existing vertex to select it, the tool will draw the next point, to add it tap in a new location.\n",
    "    To finish editing and add a point double tap otherwise press the ESC key to cancel.\n",
    "\n",
    "**Move vertex**\n",
    "\n",
    "    Drag an existing vertex and let go of the mouse button to release it.\n",
    "\n",
    "**Delete vertex**\n",
    "\n",
    "    After selecting one or more vertices press BACKSPACE while the mouse cursor is within the plot area."
   ]
  },
  {
   "cell_type": "code",
   "execution_count": null,
   "metadata": {},
   "outputs": [],
   "source": [
    "%%opts Shape [width=900 height=500 tools=['box_select']] (alpha=0.5)\n",
    "\n",
    "shapefile = './vicksburg_watershed/watershed_boundary.shp'\n",
    "mask_shape = gv.Shape.from_shapefile(shapefile)[0]\n",
    "vertex_stream = PolyEdit(source=mask_shape)\n",
    "tiles * mask_shape"
   ]
  },
  {
   "cell_type": "markdown",
   "metadata": {},
   "source": [
    "#### Saving out the edited shape"
   ]
  },
  {
   "cell_type": "code",
   "execution_count": null,
   "metadata": {},
   "outputs": [],
   "source": [
    "%%opts Shape [width=600 height=400] (alpha=0.5)\n",
    "from earthsim.tools import save_shapefile\n",
    "if vertex_stream.data:\n",
    "    edited_shape_fname = './vicksburg_watershed_edited/watershed_boundary.shp'\n",
    "    save_shapefile(vertex_stream.data, edited_shape_fname, shapefile)\n",
    "    mask_shape = gv.Shape.from_shapefile(edited_shape_fname)\n",
    "mask_shape = mask_shape.opts() # Clear options to avoid adding edit tool\n",
    "mask_shape.last.clone(crs=ccrs.GOOGLE_MERCATOR)"
   ]
  },
  {
   "cell_type": "markdown",
   "metadata": {},
   "source": [
    "## Drawing Polygons"
   ]
  },
  {
   "cell_type": "markdown",
   "metadata": {},
   "source": [
    "The ``PolyDraw`` tool allows drawing new polygons on a plot.\n",
    "\n",
    "**Add patch/multi-line**\n",
    "\n",
    "    Double tap to add the first vertex, then use tap to add each subsequent vertex, to finalize the draw action double tap to insert the final vertex or press the ESC key to stop drawing.\n",
    "\n",
    "**Move patch/multi-line**\n",
    "\n",
    "    Tap and drag an existing patch/multi-line, the point will be dropped once you let go of the mouse button.\n",
    "\n",
    "**Delete patch/multi-line**\n",
    "\n",
    "    Tap a patch/multi-line to select it then press BACKSPACE key while the mouse is within the plot area."
   ]
  },
  {
   "cell_type": "code",
   "execution_count": null,
   "metadata": {},
   "outputs": [],
   "source": [
    "%%opts Polygons [width=900 height=500] (fill_alpha=0 line_color='black') Path (line_width=5 color='black')\n",
    "new_polys = gv.Polygons([], crs=ccrs.GOOGLE_MERCATOR)\n",
    "new_paths = gv.Path([], crs=ccrs.GOOGLE_MERCATOR)\n",
    "poly_stream = PolyDraw(source=new_polys)\n",
    "path_stream = PolyDraw(source=new_paths)\n",
    "tiles * new_polys * new_paths"
   ]
  },
  {
   "cell_type": "code",
   "execution_count": null,
   "metadata": {},
   "outputs": [],
   "source": [
    "poly_stream.element.geom()"
   ]
  },
  {
   "cell_type": "markdown",
   "metadata": {},
   "source": [
    "## Drawing and editing a polygon"
   ]
  },
  {
   "cell_type": "markdown",
   "metadata": {},
   "source": [
    "By combining the polygon drawing and vertex editing tool we can both draw and edit polygons:"
   ]
  },
  {
   "cell_type": "code",
   "execution_count": null,
   "metadata": {},
   "outputs": [],
   "source": [
    "%%opts Polygons [width=900 height=500] (fill_alpha=0.2 line_color='black')\n",
    "new_polys = gv.Polygons([], crs=ccrs.GOOGLE_MERCATOR)\n",
    "poly_stream = PolyDraw(source=new_polys)\n",
    "vertex_stream = PolyEdit(source=new_polys)\n",
    "tiles * new_polys"
   ]
  },
  {
   "cell_type": "code",
   "execution_count": null,
   "metadata": {},
   "outputs": [],
   "source": [
    "poly_stream.element"
   ]
  }
 ],
 "metadata": {
  "kernelspec": {
   "display_name": "Python 3",
   "language": "python",
   "name": "python3"
  },
  "language_info": {
   "codemirror_mode": {
    "name": "ipython",
    "version": 3
   },
   "file_extension": ".py",
   "mimetype": "text/x-python",
   "name": "python",
   "nbconvert_exporter": "python",
   "pygments_lexer": "ipython3",
   "version": "3.5.4"
  }
 },
 "nbformat": 4,
 "nbformat_minor": 2
}
