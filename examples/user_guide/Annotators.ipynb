{
 "cells": [
  {
   "cell_type": "code",
   "execution_count": null,
   "metadata": {},
   "outputs": [],
   "source": [
    "import holoviews as hv\n",
    "import geoviews as gv\n",
    "import cartopy.crs as ccrs\n",
    "import numpy as np\n",
    "import parambokeh\n",
    "\n",
    "from earthsim.annotators import (\n",
    "    PolyAnnotator, PointAnnotator, PolyAndPointAnnotator,\n",
    "    GeoAnnotator, PointWidgetAnnotator\n",
    ")\n",
    "\n",
    "hv.extension('bokeh')"
   ]
  },
  {
   "cell_type": "markdown",
   "metadata": {},
   "source": [
    "This notebook documents the usage and design of high-level ``GeoAnnotator`` classes, which make it easy to draw, edit and annotate polygon, multi-line and point data on top of a map. While the existing Helper classes already provide complex functionality they should be considered templates, demonstrating useful patterns which can be adapted to more specific requirements and extended. The ``GeoAnnotator`` classes build on bokeh [Drawing Tools](Drawing_Tools.ipynb), connected to HoloViews streams to access the drawn data in Python."
   ]
  },
  {
   "cell_type": "markdown",
   "metadata": {},
   "source": [
    "# GeoAnnotator"
   ]
  },
  {
   "cell_type": "markdown",
   "metadata": {},
   "source": [
    "The ``GeoAnnotator`` allows drawing polygons and points on top of a tile source and syncing the drawn data back to Python. It does this by attaching ``PointDraw``, ``PolyDraw`` and ``VertexEdit`` streams to the points and polygons, which in turn add the corresponding tools."
   ]
  },
  {
   "cell_type": "code",
   "execution_count": null,
   "metadata": {},
   "outputs": [],
   "source": [
    "helper = GeoAnnotator()\n",
    "helper.pprint()\n",
    "helper.view()"
   ]
  },
  {
   "cell_type": "markdown",
   "metadata": {},
   "source": [
    "## Accessing the stream data\n",
    "\n",
    "The data drawn in the above plot is automatically synced to Python, we can easily access it on the two stream classes:\n",
    "\n",
    "#### Polygon\n",
    "\n",
    "The data can be accessed directly on the stream and matches the format accepted by a bokeh ``ColumnDataSource`` and will be in Web Mercator coordinates:"
   ]
  },
  {
   "cell_type": "code",
   "execution_count": null,
   "metadata": {},
   "outputs": [],
   "source": [
    "helper.poly_stream.data"
   ]
  },
  {
   "cell_type": "markdown",
   "metadata": {},
   "source": [
    "For ease of use the data can also be accessed using the ``element`` attribute:"
   ]
  },
  {
   "cell_type": "code",
   "execution_count": null,
   "metadata": {},
   "outputs": [],
   "source": [
    "helper.poly_stream.element"
   ]
  },
  {
   "cell_type": "markdown",
   "metadata": {},
   "source": [
    "This also makes it easy to project the data:"
   ]
  },
  {
   "cell_type": "code",
   "execution_count": null,
   "metadata": {},
   "outputs": [],
   "source": [
    "gv.operation.project_path(helper.poly_stream.element, projection=ccrs.PlateCarree()).dframe()"
   ]
  },
  {
   "cell_type": "markdown",
   "metadata": {},
   "source": [
    "Finally we can also get a dynamic plot of the Polygon data, which updates whenever the stream changes:"
   ]
  },
  {
   "cell_type": "code",
   "execution_count": null,
   "metadata": {},
   "outputs": [],
   "source": [
    "helper.poly_stream.dynamic"
   ]
  },
  {
   "cell_type": "markdown",
   "metadata": {},
   "source": [
    "#### Points\n",
    "\n",
    "The same functionality is also available for the ``point_stream``:"
   ]
  },
  {
   "cell_type": "code",
   "execution_count": null,
   "metadata": {},
   "outputs": [],
   "source": [
    "helper.point_stream.element"
   ]
  },
  {
   "cell_type": "markdown",
   "metadata": {},
   "source": [
    "## PointAnnotator"
   ]
  },
  {
   "cell_type": "markdown",
   "metadata": {},
   "source": [
    "The ``PointAnnotator`` is an extension of the ``GeoAnnotator`` which also adds support for annotating the points with the help of a table. Whenever a point is added by tapping on the plot an entry will appear in the table below the plot allowing you to edit the specified ``point_columns``. By default we can edit the 'Size' column.\n",
    "\n",
    "After selecting the Point Draw Tool you can tap anywhere to draw points, drag the points around and delete them with backspace. Whenever a point is added it will appear in the table, by tapping on the empty 'Size' cells you can enter a value, which will also be synced back to Python. Selecting one or more rows in the table will highlight the corresponding points."
   ]
  },
  {
   "cell_type": "code",
   "execution_count": null,
   "metadata": {},
   "outputs": [],
   "source": [
    "%%opts Points (size=10) [tools=['hover']]\n",
    "helper = PointAnnotator(point_columns=['Size'])\n",
    "helper.pprint()\n",
    "helper.view()"
   ]
  },
  {
   "cell_type": "markdown",
   "metadata": {},
   "source": [
    "#### Accessing the data in Python"
   ]
  },
  {
   "cell_type": "markdown",
   "metadata": {},
   "source": [
    "Once again we can access the annotated points in Python by looking at the ``point_table_stream``:"
   ]
  },
  {
   "cell_type": "code",
   "execution_count": null,
   "metadata": {},
   "outputs": [],
   "source": [
    "gv.operation.project_points(helper.point_stream.element, projection=ccrs.PlateCarree()).dframe()"
   ]
  },
  {
   "cell_type": "markdown",
   "metadata": {},
   "source": [
    "## PolyAnnotator"
   ]
  },
  {
   "cell_type": "markdown",
   "metadata": {},
   "source": [
    "The ``PolyAnnotator`` works much the same as the ``PointAnnotator`` except that it allows us to annotate polygons. As before whenever a polygon is added, this time using the Polygon Draw tool it will appear in the table below, selecting a row will highlight the corresponding polygon."
   ]
  },
  {
   "cell_type": "code",
   "execution_count": null,
   "metadata": {},
   "outputs": [],
   "source": [
    "helper = PolyAnnotator()\n",
    "helper.pprint()\n",
    "helper.view()"
   ]
  },
  {
   "cell_type": "markdown",
   "metadata": {},
   "source": [
    "## PolyAndPointAnnotator\n",
    "\n",
    "The ``PolyAndPointAnnotator`` combines the ``PointAnnotator`` and ``PolyAnnotator`` showing two tables to add annotations to both the points and polygons."
   ]
  },
  {
   "cell_type": "code",
   "execution_count": null,
   "metadata": {},
   "outputs": [],
   "source": [
    "%%opts Polygons (color='red' alpha=0.5 selection_alpha=0.8 nonselection_alpha=0.2) \n",
    "%%opts Points (size=10 nonselection_alpha=0.5) Layout [shared_datasource=True]\n",
    "helper = PolyAndPointAnnotator()\n",
    "helper.pprint()\n",
    "helper.view()"
   ]
  },
  {
   "cell_type": "code",
   "execution_count": null,
   "metadata": {},
   "outputs": [],
   "source": [
    "helper.poly_table_stream"
   ]
  },
  {
   "cell_type": "markdown",
   "metadata": {},
   "source": [
    "## WidgetAnnotator"
   ]
  },
  {
   "cell_type": "markdown",
   "metadata": {},
   "source": [
    "The ``WidgetAnnotator`` takes a different approach to annotating points. Instead of annotating points by editing the Table directly it allows adding points to a number of predefined groups.\n",
    "\n",
    "1. Add some points\n",
    "2. Select a subset of the points by tapping on them or using the box_select tool\n",
    "3. Select a group to assign to the points from the dropdown menu\n",
    "4. Click the add button\n",
    "\n",
    "The indexes of the points assigned to each group can be seen in the table."
   ]
  },
  {
   "cell_type": "code",
   "execution_count": null,
   "metadata": {},
   "outputs": [],
   "source": [
    "%%opts Points [tools=['box_select']] (size=10 line_color='black')\n",
    "annotator = PointWidgetAnnotator(['A', 'B', 'C'])\n",
    "annotator.pprint()\n",
    "parambokeh.Widgets(annotator)\n",
    "annotator.view()"
   ]
  },
  {
   "cell_type": "markdown",
   "metadata": {},
   "source": [
    "We can also view the annotated points separately:"
   ]
  },
  {
   "cell_type": "code",
   "execution_count": null,
   "metadata": {},
   "outputs": [],
   "source": [
    "%%opts Layout [shared_datasource=True] Points (size=10)\n",
    "points = annotator.annotated_points()\n",
    "points + points.table()"
   ]
  }
 ],
 "metadata": {
  "kernelspec": {
   "display_name": "Python 3",
   "language": "python",
   "name": "python3"
  },
  "language_info": {
   "codemirror_mode": {
    "name": "ipython",
    "version": 3
   },
   "file_extension": ".py",
   "mimetype": "text/x-python",
   "name": "python",
   "nbconvert_exporter": "python",
   "pygments_lexer": "ipython3",
   "version": "3.5.4"
  }
 },
 "nbformat": 4,
 "nbformat_minor": 2
}
