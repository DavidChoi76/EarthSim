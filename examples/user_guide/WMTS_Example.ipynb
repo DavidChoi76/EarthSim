{
 "cells": [
  {
   "cell_type": "code",
   "execution_count": null,
   "metadata": {},
   "outputs": [],
   "source": [
    "import param\n",
    "import quest\n",
    "import parambokeh\n",
    "import holoviews as hv\n",
    "import geoviews as gv\n",
    "import xarray as xr\n",
    "import cartopy.crs as ccrs\n",
    "\n",
    "hv.extension('bokeh')"
   ]
  },
  {
   "cell_type": "markdown",
   "metadata": {},
   "source": [
    "## Select tiles to download"
   ]
  },
  {
   "cell_type": "code",
   "execution_count": null,
   "metadata": {},
   "outputs": [],
   "source": [
    "url_list = ['http://c.tile.openstreetmap.org/{Z}/{X}/{Y}.png',\n",
    "            'https://s.basemaps.cartocdn.com/light_all/{Z}/{X}/{Y}.png',\n",
    "            'http://tile.stamen.com/terrain/{Z}/{X}/{Y}.png',\n",
    "            'https://server.arcgisonline.com/ArcGIS/rest/services/World_Imagery/MapServer/tile/{Z}/{Y}/{X}',\n",
    "            'https://server.arcgisonline.com/ArcGIS/rest/services/World_Topo_Map/MapServer/tile/{Z}/{Y}/{X}',\n",
    "            'https://server.arcgisonline.com/ArcGIS/rest/services/World_Terrain_Base/MapServer/tile/{Z}/{Y}/{X}',\n",
    "            'https://server.arcgisonline.com/ArcGIS/rest/services/World_Street_Map/MapServer/tile/{Z}/{Y}/{X}',\n",
    "            'https://server.arcgisonline.com/ArcGIS/rest/services/World_Shaded_Relief/MapServer/tile/{Z}/{Y}/{X}',\n",
    "            'https://server.arcgisonline.com/ArcGIS/rest/services/World_Physical_Map/MapServer/tile/{Z}/{Y}/{X}',\n",
    "            'https://server.arcgisonline.com/ArcGIS/rest/services/USA_Topo_Maps/MapServer/tile/{Z}/{Y}/{X}',\n",
    "            'https://server.arcgisonline.com/ArcGIS/rest/services/Ocean_Basemap/MapServer/tile/{Z}/{Y}/{X}',\n",
    "            'https://server.arcgisonline.com/ArcGIS/rest/services/NatGeo_World_Map/MapServer/tile/{Z}/{Y}/{X}']\n",
    "\n",
    "class TileSelector(param.Parameterized):\n",
    "    \n",
    "    tile_url = param.ObjectSelector(default=url_list[0], objects=url_list)\n",
    "    \n",
    "    zoom_level = param.Integer(default=8, bounds=(0, 19))\n",
    "    \n",
    "    @param.parameterized.bothmethod\n",
    "    def view(cls_or_self):\n",
    "        tile = gv.WMTS(cls_or_self.tile_url).options(global_extent=True, width=500, height=500)\n",
    "        return tile\n",
    "\n",
    "parambokeh.Widgets(TileSelector)\n",
    "boxes = gv.Polygons([]).options(fill_alpha=0.4, color='blue', line_color='blue', line_width=2)\n",
    "box_stream = hv.streams.BoxEdit(source=boxes, num_objects=1)\n",
    "TileSelector.view() * boxes"
   ]
  },
  {
   "cell_type": "markdown",
   "metadata": {},
   "source": [
    "## Declare quest collection"
   ]
  },
  {
   "cell_type": "code",
   "execution_count": null,
   "metadata": {},
   "outputs": [],
   "source": [
    "basemap_features = quest.api.get_features('svc://basemap:Web Mercator Tile Service')\n",
    "collection_name = 'the_demo2'\n",
    "if collection_name in quest.api.get_collections():\n",
    "    pass\n",
    "else:\n",
    "    quest.api.new_collection(collection_name)\n",
    "\n",
    "collection_feature = quest.api.add_features(collection_name, basemap_features[0])\n",
    "collection_feature"
   ]
  },
  {
   "cell_type": "markdown",
   "metadata": {},
   "source": [
    "## Define query and download"
   ]
  },
  {
   "cell_type": "code",
   "execution_count": null,
   "metadata": {},
   "outputs": [],
   "source": [
    "if box_stream.element:\n",
    "    data = box_stream.data\n",
    "    bbox = (data['x0'][0], data['y1'][0], data['x1'][0], data['y0'][0])\n",
    "else:\n",
    "    bbox = [-90.88, 32.36, -90.87, 32.35]\n",
    "\n",
    "options = {'url': TileSelector.tile_url, \n",
    "           'zoom_level': TileSelector.zoom_level, \n",
    "           'bbox': bbox}\n",
    "staged_id = quest.api.stage_for_download(collection_feature, options=options)\n",
    "quest.api.download_datasets(staged_id)"
   ]
  },
  {
   "cell_type": "markdown",
   "metadata": {},
   "source": [
    "## Open and display downloaded tiles"
   ]
  },
  {
   "cell_type": "code",
   "execution_count": null,
   "metadata": {},
   "outputs": [],
   "source": [
    "meta = quest.api.get_metadata(staged_id)\n",
    "path = list(meta.values())[0]['file_path']\n",
    "gv.tile_sources.Wikipedia * gv.RGB.load_tiff(path, crs=ccrs.PlateCarree()).options(width=800, height=600)"
   ]
  }
 ],
 "metadata": {
  "kernelspec": {
   "display_name": "Python 3",
   "language": "python",
   "name": "python3"
  },
  "language_info": {
   "codemirror_mode": {
    "name": "ipython",
    "version": 3
   },
   "file_extension": ".py",
   "mimetype": "text/x-python",
   "name": "python",
   "nbconvert_exporter": "python",
   "pygments_lexer": "ipython3",
   "version": "3.6.4"
  }
 },
 "nbformat": 4,
 "nbformat_minor": 2
}
