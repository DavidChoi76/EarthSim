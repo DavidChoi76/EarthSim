{
 "cells": [
  {
   "cell_type": "code",
   "execution_count": null,
   "metadata": {},
   "outputs": [],
   "source": [
    "import quest\n",
    "import panel as pn\n",
    "import holoviews as hv\n",
    "import geoviews as gv\n",
    "import cartopy.crs as ccrs\n",
    "\n",
    "from holoviews.operation.datashader import rasterize\n",
    "\n",
    "hv.extension('bokeh')"
   ]
  },
  {
   "cell_type": "markdown",
   "metadata": {},
   "source": [
    "## Select tiles to download"
   ]
  },
  {
   "cell_type": "code",
   "execution_count": null,
   "metadata": {},
   "outputs": [],
   "source": [
    "quest_service = 'svc://wmts:seamless_imagery'\n",
    "tile_service_options = quest.api.get_download_options(quest_service, fmt='param')[quest_service]\n",
    "tile_service_options.params()['bbox'].precedence = -1  # hide bbox input\n",
    "pn.panel(tile_service_options.param)"
   ]
  },
  {
   "cell_type": "code",
   "execution_count": null,
   "metadata": {},
   "outputs": [],
   "source": [
    "tiles = gv.WMTS(tile_service_options.url).options(width=950, height=600)\n",
    "boxes = gv.Polygons(\n",
    "    hv.Bounds((-72.43925984610391, 45.8471360126193, -68.81252476472281, 47.856449699679516))\n",
    ").options(fill_alpha=0.4, color='blue', line_color='blue', line_width=2)\n",
    "box_stream = hv.streams.BoxEdit(source=boxes, num_objects=1)\n",
    "tiles * boxes"
   ]
  },
  {
   "cell_type": "markdown",
   "metadata": {},
   "source": [
    "## Define query and download"
   ]
  },
  {
   "cell_type": "code",
   "execution_count": null,
   "metadata": {},
   "outputs": [],
   "source": [
    "data = box_stream.data\n",
    "bbox = [data['x0'][0], data['y0'][0], data['x1'][0], data['y1'][0]]\n",
    "tile_service_options.bbox = bbox"
   ]
  },
  {
   "cell_type": "code",
   "execution_count": null,
   "metadata": {},
   "outputs": [],
   "source": [
    "dataset_metadata = quest.api.get_data(\n",
    "    service_uri=quest_service,\n",
    "    search_filters=None,\n",
    "    download_options=tile_service_options,\n",
    "    collection_name='examples',\n",
    "    use_cache=True,\n",
    "    as_open_datasets=False,\n",
    "    expand=True,\n",
    ")[0]\n",
    "file_path = dataset_metadata['file_path']"
   ]
  },
  {
   "cell_type": "markdown",
   "metadata": {},
   "source": [
    "## Open and display downloaded tiles"
   ]
  },
  {
   "cell_type": "code",
   "execution_count": null,
   "metadata": {},
   "outputs": [],
   "source": [
    "rgb = gv.RGB.load_tiff(file_path, crs=ccrs.GOOGLE_MERCATOR)\n",
    "gv.tile_sources.Wikipedia * rasterize(rgb).options(width=800, height=600, active_tools=['wheel_zoom'])"
   ]
  },
  {
   "cell_type": "code",
   "execution_count": null,
   "metadata": {},
   "outputs": [],
   "source": []
  }
 ],
 "metadata": {
  "kernelspec": {
   "display_name": "Python 3",
   "language": "python",
   "name": "python3"
  },
  "language_info": {
   "codemirror_mode": {
    "name": "ipython",
    "version": 3
   },
   "file_extension": ".py",
   "mimetype": "text/x-python",
   "name": "python",
   "nbconvert_exporter": "python",
   "pygments_lexer": "ipython3",
   "version": "3.6.7"
  }
 },
 "nbformat": 4,
 "nbformat_minor": 2
}
