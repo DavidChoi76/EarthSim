{
 "cells": [
  {
   "cell_type": "code",
   "execution_count": null,
   "metadata": {},
   "outputs": [],
   "source": [
    "import param\n",
    "import quest\n",
    "import panel as pn\n",
    "import holoviews as hv\n",
    "import geoviews as gv\n",
    "import xarray as xr\n",
    "import cartopy.crs as ccrs\n",
    "\n",
    "from holoviews.operation.datashader import rasterize\n",
    "\n",
    "hv.extension('bokeh')"
   ]
  },
  {
   "cell_type": "markdown",
   "metadata": {},
   "source": [
    "## Select tiles to download"
   ]
  },
  {
   "cell_type": "code",
   "execution_count": null,
   "metadata": {},
   "outputs": [],
   "source": [
    "quest_service = 'svc://wmts:seamless_imagery'\n",
    "tile_service_options = quest.api.download_options(quest_service, fmt='param')[quest_service]\n",
    "tile_service_options.params()['bbox'].precedence = -1  # hide bbox input\n",
    "pn.panel(tile_service_options.param)"
   ]
  },
  {
   "cell_type": "code",
   "execution_count": null,
   "metadata": {},
   "outputs": [],
   "source": [
    "tiles = gv.WMTS(tile_service_options.url).options(width=950, height=600, global_extent=True)\n",
    "boxes = gv.Polygons([]).options(fill_alpha=0.4, color='blue', line_color='blue', line_width=2)\n",
    "box_stream = hv.streams.BoxEdit(source=boxes, num_objects=1)\n",
    "tiles * boxes"
   ]
  },
  {
   "cell_type": "markdown",
   "metadata": {},
   "source": [
    "## Define query and download"
   ]
  },
  {
   "cell_type": "code",
   "execution_count": null,
   "metadata": {},
   "outputs": [],
   "source": [
    "if box_stream.element:\n",
    "    data = box_stream.data\n",
    "    bbox = [data['x0'][0], data['y0'][0], data['x1'][0], data['y1'][0]]\n",
    "else:\n",
    "    bbox = [-72.43925984610391, 45.8471360126193, -68.81252476472281, 47.856449699679516]\n",
    "tile_service_options.bbox = bbox\n",
    "print(bbox)"
   ]
  },
  {
   "cell_type": "code",
   "execution_count": null,
   "metadata": {},
   "outputs": [],
   "source": [
    "basemap_features = quest.api.get_features(quest_service)\n",
    "collection_name = 'examples'\n",
    "if collection_name in quest.api.get_collections():\n",
    "    pass\n",
    "else:\n",
    "    quest.api.new_collection(collection_name)\n",
    "\n",
    "collection_feature = quest.api.add_features(collection_name, basemap_features[0])\n",
    "options = dict(tile_service_options.param.get_param_values())\n",
    "staged_id = quest.api.stage_for_download(collection_feature, options=options)[0]\n",
    "quest.api.download_datasets(staged_id, raise_on_error=True)\n",
    "meta = quest.api.get_metadata(staged_id)[staged_id]\n",
    "meta"
   ]
  },
  {
   "cell_type": "markdown",
   "metadata": {},
   "source": [
    "## Open and display downloaded tiles"
   ]
  },
  {
   "cell_type": "code",
   "execution_count": null,
   "metadata": {},
   "outputs": [],
   "source": [
    "meta = quest.api.get_metadata(staged_id)\n",
    "path = list(meta.values())[0]['file_path']\n",
    "rgb = gv.project(gv.RGB.load_tiff(path, crs=ccrs.PlateCarree()))\n",
    "gv.tile_sources.Wikipedia * rasterize(rgb).options(width=800, height=600)"
   ]
  }
 ],
 "metadata": {
  "kernelspec": {
   "display_name": "Python 3",
   "language": "python",
   "name": "python3"
  },
  "language_info": {
   "codemirror_mode": {
    "name": "ipython",
    "version": 3
   },
   "file_extension": ".py",
   "mimetype": "text/x-python",
   "name": "python",
   "nbconvert_exporter": "python",
   "pygments_lexer": "ipython3",
   "version": "3.6.4"
  }
 },
 "nbformat": 4,
 "nbformat_minor": 2
}
